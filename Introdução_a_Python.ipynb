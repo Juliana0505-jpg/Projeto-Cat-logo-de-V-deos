{
  "nbformat": 4,
  "nbformat_minor": 0,
  "metadata": {
    "colab": {
      "provenance": [],
      "authorship_tag": "ABX9TyPH/uPNYzrkRgvGm9fDDUvf",
      "include_colab_link": true
    },
    "kernelspec": {
      "name": "python3",
      "display_name": "Python 3"
    },
    "language_info": {
      "name": "python"
    }
  },
  "cells": [
    {
      "cell_type": "markdown",
      "metadata": {
        "id": "view-in-github",
        "colab_type": "text"
      },
      "source": [
        "<a href=\"https://colab.research.google.com/github/Juliana0505-jpg/Projeto-Cat-logo-de-V-deos/blob/main/Introdu%C3%A7%C3%A3o_a_Python.ipynb\" target=\"_parent\"><img src=\"https://colab.research.google.com/assets/colab-badge.svg\" alt=\"Open In Colab\"/></a>"
      ]
    },
    {
      "cell_type": "markdown",
      "source": [
        "## Aula 1"
      ],
      "metadata": {
        "id": "jpMKREvAhm2K"
      }
    },
    {
      "cell_type": "code",
      "source": [
        "print(\"I competição de programação dá Start\")"
      ],
      "metadata": {
        "colab": {
          "base_uri": "https://localhost:8080/"
        },
        "id": "mfRLcBZngfAr",
        "outputId": "bdd7bf75-a9dd-47a4-a21f-3a1689d28f39"
      },
      "execution_count": null,
      "outputs": [
        {
          "output_type": "stream",
          "name": "stdout",
          "text": [
            "I competição de programação dá Start\n"
          ]
        }
      ]
    },
    {
      "cell_type": "code",
      "source": [
        "ano = \"II\"\n",
        "print(ano, \"competição de programação da Start\")"
      ],
      "metadata": {
        "colab": {
          "base_uri": "https://localhost:8080/"
        },
        "id": "MHL7WWq5gSCA",
        "outputId": "34b7627f-3850-4e1c-8930-458c08649165"
      },
      "execution_count": null,
      "outputs": [
        {
          "output_type": "stream",
          "name": "stdout",
          "text": [
            "II competição de programação da Start\n"
          ]
        }
      ]
    },
    {
      "cell_type": "code",
      "source": [
        "print(f\"{ano} competição de programação da Start\")"
      ],
      "metadata": {
        "colab": {
          "base_uri": "https://localhost:8080/"
        },
        "id": "ZLEVx278hWUf",
        "outputId": "e8f3fbf3-8a5e-491d-d3c6-941db6203c7f"
      },
      "execution_count": null,
      "outputs": [
        {
          "output_type": "stream",
          "name": "stdout",
          "text": [
            "II competição de programação da Start\n"
          ]
        }
      ]
    },
    {
      "cell_type": "markdown",
      "source": [
        "## Aula 2"
      ],
      "metadata": {
        "id": "R9ZD-zRjh8GK"
      }
    },
    {
      "cell_type": "markdown",
      "source": [
        "Uma escola está promovendo uma campanha de incentivo à leitura, em que cada estudante recebe pontos ao concluir livros. Esses pontos podem ser trocados por diferentes prêmios da escola, e as categorias de livros têm valores diferntes de pontos:\n",
        "\n",
        "Ficção: 8 pontos;\n",
        "\n",
        "Não ficção: 8 ponto;\n",
        "\n",
        "Infantis: 6 pontos.\n",
        "\n",
        "Problema:\n",
        "\n",
        "Rodrigo, um estudante dessa escola, leu um livro de cada categoria e, agora, quer saber quantos pontos acumulou com sua leitura."
      ],
      "metadata": {
        "id": "ej4_4SGFiGfS"
      }
    },
    {
      "cell_type": "code",
      "source": [
        "livro_ficcao = 8\n",
        "livro_n_ficcao = 10\n",
        "livro_infantil = 6\n",
        "\n",
        "pontos_rodrigo = livro_ficcao + livro_n_ficcao + livro_infantil\n",
        "\n",
        "print(f\"Os pontos totais do Rodrigo são {pontos_rodrigo}\")"
      ],
      "metadata": {
        "colab": {
          "base_uri": "https://localhost:8080/"
        },
        "id": "ywwN8bUuhWQ-",
        "outputId": "879cd9d3-9930-4d46-edcf-1b7317fc2f83"
      },
      "execution_count": null,
      "outputs": [
        {
          "output_type": "stream",
          "name": "stdout",
          "text": [
            "Os pontos totais do Rodrigo são 24\n"
          ]
        }
      ]
    },
    {
      "cell_type": "markdown",
      "source": [
        "## Aula 3"
      ],
      "metadata": {
        "id": "D7Cau2cojrq6"
      }
    },
    {
      "cell_type": "markdown",
      "source": [
        "Desafio de lógica inspirado na Olimpíada Brasileira de Informática (OBI)"
      ],
      "metadata": {
        "id": "UuQTX6LojtZb"
      }
    },
    {
      "cell_type": "markdown",
      "source": [
        " O problema apresentado envolve um grupo de amigos e um envelope cheio de figurinhas. João, o dono do envelope, propôs uma forma de divisão:\n",
        "\n",
        "Todos os amigos devem receber a mesma quantidade de figurinhas;\n",
        "\n",
        "João receberá o dobro da quantidade que cada amigo recebe;\n",
        "\n",
        "A divisão deve ser exata, sem sobrar ou faltar figurinhas."
      ],
      "metadata": {
        "id": "8f9sOQqUjzAo"
      }
    },
    {
      "cell_type": "code",
      "source": [
        "total_de_figurinhas = int(input(\"Digite o total de figurinhas: \"))\n",
        "numero_de_amigos = int(input(\"Digite o número de amigos: \"))\n",
        "figurinhas_amigo = total_de_figurinhas // (numero_de_amigos + 2)\n",
        "print(f\"João recebeu {figurinhas_joao} figurinhas\")\n"
      ],
      "metadata": {
        "colab": {
          "base_uri": "https://localhost:8080/",
          "height": 211
        },
        "collapsed": true,
        "id": "J56atEplgPGp",
        "outputId": "30bfbda4-2a0d-4c37-9de8-46950141d64d"
      },
      "execution_count": 4,
      "outputs": [
        {
          "name": "stdout",
          "output_type": "stream",
          "text": [
            "Digite o total de figurinhas: 48\n",
            "Digite o número de amigos: 5\n"
          ]
        },
        {
          "output_type": "error",
          "ename": "NameError",
          "evalue": "name 'figurinhas_joao' is not defined",
          "traceback": [
            "\u001b[0;31m---------------------------------------------------------------------------\u001b[0m",
            "\u001b[0;31mNameError\u001b[0m                                 Traceback (most recent call last)",
            "\u001b[0;32m/tmp/ipython-input-716563472.py\u001b[0m in \u001b[0;36m<cell line: 0>\u001b[0;34m()\u001b[0m\n\u001b[1;32m      2\u001b[0m \u001b[0mnumero_de_amigos\u001b[0m \u001b[0;34m=\u001b[0m \u001b[0mint\u001b[0m\u001b[0;34m(\u001b[0m\u001b[0minput\u001b[0m\u001b[0;34m(\u001b[0m\u001b[0;34m\"Digite o número de amigos: \"\u001b[0m\u001b[0;34m)\u001b[0m\u001b[0;34m)\u001b[0m\u001b[0;34m\u001b[0m\u001b[0;34m\u001b[0m\u001b[0m\n\u001b[1;32m      3\u001b[0m \u001b[0mfigurinhas_amigo\u001b[0m \u001b[0;34m=\u001b[0m \u001b[0mtotal_de_figurinhas\u001b[0m \u001b[0;34m//\u001b[0m \u001b[0;34m(\u001b[0m\u001b[0mnumero_de_amigos\u001b[0m \u001b[0;34m+\u001b[0m \u001b[0;36m2\u001b[0m\u001b[0;34m)\u001b[0m\u001b[0;34m\u001b[0m\u001b[0;34m\u001b[0m\u001b[0m\n\u001b[0;32m----> 4\u001b[0;31m \u001b[0mprint\u001b[0m\u001b[0;34m(\u001b[0m\u001b[0;34mf\"João recebeu {figurinhas_joao} figurinhas\"\u001b[0m\u001b[0;34m)\u001b[0m\u001b[0;34m\u001b[0m\u001b[0;34m\u001b[0m\u001b[0m\n\u001b[0m",
            "\u001b[0;31mNameError\u001b[0m: name 'figurinhas_joao' is not defined"
          ]
        }
      ]
    },
    {
      "cell_type": "markdown",
      "source": [
        "## Aula 4"
      ],
      "metadata": {
        "id": "RMIUfnVAhL67"
      }
    },
    {
      "cell_type": "markdown",
      "source": [
        "Esse desafio é um programa que verifica se alunos e monitores podem ser transportados juntos em um bondinho com capacidade limitada.\n",
        "\n",
        " No começo do problema há dois dados principais que precisam ser criados:\n",
        "\n",
        "a quantidade de alunos;\n",
        "a quantidade de monitores;\n",
        "Esses dois valores serão os dados de entrada e precisam ser fornecidos por quem estiver executando o código.\n",
        "\n"
      ],
      "metadata": {
        "id": "Ilm2UnmShN0T"
      }
    },
    {
      "cell_type": "code",
      "source": [
        "total_people = 0\n",
        "num_groups = int(input(\"Enter the number of groups: \"))\n",
        "\n",
        "for i in range(num_groups):\n",
        "    group_size = int(input(f\"Enter the size of group {i+1}: \"))\n",
        "    total_people += group_size\n",
        "\n",
        "if total_people <= 50:\n",
        "    print(\"pode ir\")\n",
        "else:\n",
        "    print(\"não pode ir\")"
      ],
      "metadata": {
        "id": "MlTsfK8Vjf_I",
        "collapsed": true
      },
      "execution_count": null,
      "outputs": []
    },
    {
      "cell_type": "markdown",
      "source": [
        "## Aula 5"
      ],
      "metadata": {
        "id": "x1NhUsU8jEaq"
      }
    },
    {
      "cell_type": "markdown",
      "source": [
        "O problema se baseia em um jogo com portinhas que podem estar na posição 0 (esquerda) ou 1 (direita). Dependendo da posição das portinhas P e R, a bolinha pode seguir pelo caminho A, B ou C.\n",
        "\n",
        "https://cdn3.gnarususercontent.com.br/%5B3964-4075%5D-intro-python/img-atividades/aula05_FCF-01.png\n"
      ],
      "metadata": {
        "id": "hdHVeS20jV9q"
      }
    },
    {
      "cell_type": "code",
      "source": [
        "P = int(input(\"Digite a posição da porta P (0 ou 1): \"))\n",
        "R = int(input(\"Digite a posição da porta R (0 ou 1): \"))\n",
        "if P == 0:\n",
        "    print(\"C\")\n",
        "    elif R == 1:\n",
        "    print(\"A\")\n",
        "    else:\n",
        "    print(\"B\")\n",
        "\n",
        "    elif R == 1:\n",
        "    print(\"A\")\n",
        "else:\n",
        "    print(\"B\")\n",
        "\n",
        "    else:\n",
        "    print(\"B\")\n",
        "\n"
      ],
      "metadata": {
        "colab": {
          "base_uri": "https://localhost:8080/",
          "height": 106
        },
        "id": "s3mkRF9Phn4G",
        "outputId": "08562c87-cc7e-4009-8dc7-9bed997eef38"
      },
      "execution_count": 7,
      "outputs": [
        {
          "output_type": "error",
          "ename": "SyntaxError",
          "evalue": "invalid syntax (ipython-input-2088317280.py, line 5)",
          "traceback": [
            "\u001b[0;36m  File \u001b[0;32m\"/tmp/ipython-input-2088317280.py\"\u001b[0;36m, line \u001b[0;32m5\u001b[0m\n\u001b[0;31m    elif R == 1:\u001b[0m\n\u001b[0m    ^\u001b[0m\n\u001b[0;31mSyntaxError\u001b[0m\u001b[0;31m:\u001b[0m invalid syntax\n"
          ]
        }
      ]
    },
    {
      "cell_type": "code",
      "source": [],
      "metadata": {
        "id": "tPSraMQ4hWNV"
      },
      "execution_count": null,
      "outputs": []
    },
    {
      "cell_type": "code",
      "source": [],
      "metadata": {
        "id": "fa-zAMMdhV4H"
      },
      "execution_count": null,
      "outputs": []
    }
  ]
}