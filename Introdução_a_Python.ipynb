{
  "nbformat": 4,
  "nbformat_minor": 0,
  "metadata": {
    "colab": {
      "provenance": [],
      "authorship_tag": "ABX9TyNKr1DqYSUuwb7bKNBsJ5ii",
      "include_colab_link": true
    },
    "kernelspec": {
      "name": "python3",
      "display_name": "Python 3"
    },
    "language_info": {
      "name": "python"
    }
  },
  "cells": [
    {
      "cell_type": "markdown",
      "metadata": {
        "id": "view-in-github",
        "colab_type": "text"
      },
      "source": [
        "<a href=\"https://colab.research.google.com/github/Juliana0505-jpg/Projeto-Cat-logo-de-V-deos/blob/main/Introdu%C3%A7%C3%A3o_a_Python.ipynb\" target=\"_parent\"><img src=\"https://colab.research.google.com/assets/colab-badge.svg\" alt=\"Open In Colab\"/></a>"
      ]
    },
    {
      "cell_type": "markdown",
      "source": [
        "## Aula 1"
      ],
      "metadata": {
        "id": "jpMKREvAhm2K"
      }
    },
    {
      "cell_type": "code",
      "source": [
        "print(\"I competição de programação dá Start\")"
      ],
      "metadata": {
        "colab": {
          "base_uri": "https://localhost:8080/"
        },
        "id": "mfRLcBZngfAr",
        "outputId": "bdd7bf75-a9dd-47a4-a21f-3a1689d28f39"
      },
      "execution_count": 1,
      "outputs": [
        {
          "output_type": "stream",
          "name": "stdout",
          "text": [
            "I competição de programação dá Start\n"
          ]
        }
      ]
    },
    {
      "cell_type": "code",
      "source": [
        "ano = \"II\"\n",
        "print(ano, \"competição de programação da Start\")"
      ],
      "metadata": {
        "colab": {
          "base_uri": "https://localhost:8080/"
        },
        "id": "MHL7WWq5gSCA",
        "outputId": "34b7627f-3850-4e1c-8930-458c08649165"
      },
      "execution_count": 2,
      "outputs": [
        {
          "output_type": "stream",
          "name": "stdout",
          "text": [
            "II competição de programação da Start\n"
          ]
        }
      ]
    },
    {
      "cell_type": "code",
      "source": [
        "print(f\"{ano} competição de programação da Start\")"
      ],
      "metadata": {
        "colab": {
          "base_uri": "https://localhost:8080/"
        },
        "id": "ZLEVx278hWUf",
        "outputId": "e8f3fbf3-8a5e-491d-d3c6-941db6203c7f"
      },
      "execution_count": 3,
      "outputs": [
        {
          "output_type": "stream",
          "name": "stdout",
          "text": [
            "II competição de programação da Start\n"
          ]
        }
      ]
    },
    {
      "cell_type": "markdown",
      "source": [
        "## Aula 2"
      ],
      "metadata": {
        "id": "R9ZD-zRjh8GK"
      }
    },
    {
      "cell_type": "markdown",
      "source": [
        "Uma escola está promovendo uma campanha de incentivo à leitura, em que cada estudante recebe pontos ao concluir livros. Esses pontos podem ser trocados por diferentes prêmios da escola, e as categorias de livros têm valores diferntes de pontos:\n",
        "\n",
        "Ficção: 8 pontos;\n",
        "\n",
        "Não ficção: 8 ponto;\n",
        "\n",
        "Infantis: 6 pontos.\n",
        "\n",
        "Problema:\n",
        "\n",
        "Rodrigo, um estudante dessa escola, leu um livro de cada categoria e, agora, quer saber quantos pontos acumulou com sua leitura."
      ],
      "metadata": {
        "id": "ej4_4SGFiGfS"
      }
    },
    {
      "cell_type": "code",
      "source": [
        "livro_ficcao = 8\n",
        "livro_n_ficcao = 10\n",
        "livro_infantil = 6\n",
        "\n",
        "pontos_rodrigo = livro_ficcao + livro_n_ficcao + livro_infantil\n",
        "\n",
        "print(f\"Os pontos totais do Rodrigo são {pontos_rodrigo}\")"
      ],
      "metadata": {
        "colab": {
          "base_uri": "https://localhost:8080/"
        },
        "id": "ywwN8bUuhWQ-",
        "outputId": "879cd9d3-9930-4d46-edcf-1b7317fc2f83"
      },
      "execution_count": 4,
      "outputs": [
        {
          "output_type": "stream",
          "name": "stdout",
          "text": [
            "Os pontos totais do Rodrigo são 24\n"
          ]
        }
      ]
    },
    {
      "cell_type": "markdown",
      "source": [
        "## Aula 3"
      ],
      "metadata": {
        "id": "D7Cau2cojrq6"
      }
    },
    {
      "cell_type": "markdown",
      "source": [
        "Desafio de lógica inspirado na Olimpíada Brasileira de Informática (OBI)"
      ],
      "metadata": {
        "id": "UuQTX6LojtZb"
      }
    },
    {
      "cell_type": "markdown",
      "source": [
        " O problema apresentado envolve um grupo de amigos e um envelope cheio de figurinhas. João, o dono do envelope, propôs uma forma de divisão:\n",
        "\n",
        "Todos os amigos devem receber a mesma quantidade de figurinhas;\n",
        "\n",
        "João receberá o dobro da quantidade que cada amigo recebe;\n",
        "\n",
        "A divisão deve ser exata, sem sobrar ou faltar figurinhas."
      ],
      "metadata": {
        "id": "8f9sOQqUjzAo"
      }
    },
    {
      "cell_type": "code",
      "source": [],
      "metadata": {
        "id": "MlTsfK8Vjf_I"
      },
      "execution_count": null,
      "outputs": []
    },
    {
      "cell_type": "code",
      "source": [],
      "metadata": {
        "id": "tPSraMQ4hWNV"
      },
      "execution_count": 4,
      "outputs": []
    },
    {
      "cell_type": "code",
      "source": [],
      "metadata": {
        "id": "fa-zAMMdhV4H"
      },
      "execution_count": 4,
      "outputs": []
    }
  ]
}